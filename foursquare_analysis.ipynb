{
 "metadata": {
  "language_info": {
   "codemirror_mode": {
    "name": "ipython",
    "version": 3
   },
   "file_extension": ".py",
   "mimetype": "text/x-python",
   "name": "python",
   "nbconvert_exporter": "python",
   "pygments_lexer": "ipython3",
   "version": "3.8.1-final"
  },
  "orig_nbformat": 2,
  "kernelspec": {
   "name": "python38132bit64e5c7e9c0ac4fd8934ae2d2769e2d28",
   "display_name": "Python 3.8.1 32-bit",
   "language": "python"
  }
 },
 "nbformat": 4,
 "nbformat_minor": 2,
 "cells": [
  {
   "source": [
    "## About Dataset\n",
    "\n",
    "Foursquare is a social media platform where users can share their locations and rate venues. This dataset contains 09/2013's values.\n",
    "\n",
    "You need to download the dataset with torrent to access it.\n",
    "\n",
    "> https://archive.org/details/201309_foursquare_dataset_umn\n",
    "\n",
    "<img src=\"images/raw_dataset.png\">"
   ],
   "cell_type": "markdown",
   "metadata": {}
  },
  {
   "source": [
    "## Accessing data from file system and cleaning it\n",
    "\n",
    "```PostgreSQL\n",
    "\\COPY \"ODS\".\"EXT_FS_VENUES\" FROM 'C:/Users/uguraskar/Downloads/201309_foursquare_dataset_umn/fsq/umn_foursquare_datasets/venues.dat' WITH (FORMAT CSV, DELIMITER ',', FORCE_NULL(latitude,longitude));\n",
    "```"
   ],
   "cell_type": "markdown",
   "metadata": {}
  },
  {
   "source": [
    "import time\n",
    "import math\n",
    "import os\n",
    "import re\n",
    "\n",
    "source_dir = os.getcwd()\n",
    "raw_data_folder = source_dir+\"\\\\data\\\\raw\"\n",
    "clean_data_folder = source_dir+\"\\\\data\\\\clean\"\n",
    "\n",
    "for filename in os.listdir(raw_data_folder):\n",
    "    with open(os.path.join(raw_data_folder, filename), 'r') as f: # open in readonly mode\n",
    "        start_time = math.trunc(time.time())\n",
    "        clean_file = open(os.path.join(clean_data_folder,filename),\"w\")\n",
    "        line_number = 0\n",
    "        for line in f:\n",
    "            line_number += 1 #Don't carry this to end of the elif statements otherwise line number will be zero indefinitely\n",
    "            if(line_number in range(1,3)):\n",
    "                #print(\"Deleted line: {line_number}\".format(line_number=line_number))\n",
    "                continue\n",
    "            elif(line.endswith(\"rows)\\n\")):\n",
    "                break\n",
    "            else:\n",
    "                clean_format = line.replace(\" \",\"\").replace(\"|\",\";\")\n",
    "                clean_file.write(clean_format)\n",
    "        clean_file.close()\n",
    "        end_time = math.trunc(time.time())\n",
    "        print(\"Cleaned and created {filename} in {execute_time} seconds\".format(execute_time=end_time-start_time, filename=filename))"
   ],
   "cell_type": "code",
   "metadata": {
    "tags": []
   },
   "execution_count": 45,
   "outputs": [
    {
     "output_type": "stream",
     "name": "stdout",
     "text": [
      "Cleaned and created checkins.dat in 3 seconds\n",
      "Cleaned and created ratings.dat in 6 seconds\n",
      "Cleaned and created socialgraph.dat in 64 seconds\n",
      "Cleaned and created users.dat in 6 seconds\n",
      "Cleaned and created venues.dat in 3 seconds\n"
     ]
    }
   ]
  },
  {
   "source": [
    "## Sources:\n",
    "\n",
    " 1. [Dataset](https://archive.org/details/201309_foursquare_dataset_umn)\n",
    "\n",
    " 2. [How to open every file in a folder?](https://stackoverflow.com/questions/18262293/how-to-open-every-file-in-a-folder)\n",
    "\n",
    " 3. [Python- reading a file line by line and processing](https://stackoverflow.com/questions/53749062/python-reading-a-file-line-by-line-and-processing)\n",
    "\n"
   ],
   "cell_type": "markdown",
   "metadata": {}
  }
 ]
}